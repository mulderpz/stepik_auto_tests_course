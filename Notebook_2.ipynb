{
 "cells": [
  {
   "cell_type": "code",
   "execution_count": null,
   "id": "ffca8470",
   "metadata": {},
   "outputs": [],
   "source": [
    "from selenium import webdriver\n",
    "from math import sin, log\n",
    "\n",
    "\n",
    "link = \"https://suninjuly.github.io/math.html\"\n",
    "browser = webdriver.Chrome()\n",
    "browser.get(link)\n",
    "x = browser.find_element('xpath', '//span[@id=\"input_value\"]').text\n",
    "res = str(math.log(abs(12*math.sin(int(x)))))\n",
    "browser.find_element('xpath', '//input[@id=\"answer\"]').send_keys(res)\n",
    "browser.find_element('xpath', '//input[@type=\"checkbox\"]').click()\n",
    "browser.find_element('xpath', '//label[@for=\"robotsRule\"]').click()\n",
    "browser.find_element('xpath', '//button[@type=\"submit\"]').click()\n",
    "print(browser.switch_to.alert.text)"
   ]
  },
  {
   "cell_type": "code",
   "execution_count": null,
   "id": "d709a099",
   "metadata": {},
   "outputs": [],
   "source": [
    "from selenium import webdriver\n",
    "from math import sin, log\n",
    "\n",
    "\n",
    "browser = webdriver.Chrome()\n",
    "browser.get(\"https://suninjuly.github.io/get_attribute.html\")\n",
    "x = browser.find_element('xpath', '//img[@id=\"treasure\"]').get_attribute('valuex')\n",
    "res = str(math.log(abs(12*math.sin(int(x)))))\n",
    "browser.find_element('xpath', '//input[@id=\"answer\"]').send_keys(res)\n",
    "browser.find_element('xpath', '//input[@type=\"checkbox\"]').click()\n",
    "browser.find_element('xpath', '//input[@id=\"robotsRule\"]').click()\n",
    "browser.find_element('xpath', '//button[@type=\"submit\"]').click()\n",
    "print(browser.switch_to.alert.text)"
   ]
  },
  {
   "cell_type": "code",
   "execution_count": null,
   "id": "268d45d4",
   "metadata": {},
   "outputs": [],
   "source": [
    "from selenium import webdriver\n",
    "\n",
    "\n",
    "browser = webdriver.Chrome()\n",
    "browser.get(\"https://suninjuly.github.io/selects1.html\")\n",
    "num_1 = browser.find_element('xpath', '//span[@id=\"num1\"]').text\n",
    "num_2 = browser.find_element('xpath', '//span[@id=\"num2\"]').text\n",
    "res = int(num_1) + int(num_2)\n",
    "browser.find_element('xpath', '//select[@id=\"dropdown\"]').click()\n",
    "browser.find_element('xpath', f'//option[@value=\"{res}\"]').click()\n",
    "browser.find_element('xpath', '//button[@type=\"submit\"]').click()\n",
    "print(browser.switch_to.alert.text.split()[-1])"
   ]
  },
  {
   "cell_type": "code",
   "execution_count": null,
   "id": "2fd88098",
   "metadata": {},
   "outputs": [],
   "source": [
    "from selenium import webdriver\n",
    "from math import log, sin\n",
    "\n",
    "\n",
    "browser = webdriver.Chrome()\n",
    "\n",
    "browser.get(\"https://suninjuly.github.io/execute_script.html\")  # Открыть страницу https://SunInJuly.github.io/execute_script.html\n",
    "x = browser.find_element('xpath', '//span[@id=\"input_value\"]').text  # Считать значение для переменной x.\n",
    "res = log(abs(12*sin(int(x)))) # Посчитать математическую функцию от x\n",
    "browser.execute_script(\"window.scrollBy(0, 100);\") # Проскроллить страницу вниз\n",
    "browser.find_element('xpath', '//input[@id=\"answer\"]').send_keys(res)  # Ввести ответ в текстовое поле\n",
    "browser.find_element('xpath', '//input[@id=\"robotCheckbox\"]').click() # Выбрать checkbox \"I'm the robot\".\n",
    "browser.find_element('xpath', '//input[@id=\"robotsRule\"]').click() # Переключить radiobutton \"Robots rule!\".\n",
    "browser.find_element('xpath', '//button[@type=\"submit\"]').click()\n",
    "print(browser.switch_to.alert.text.split()[-1])"
   ]
  },
  {
   "cell_type": "code",
   "execution_count": null,
   "id": "21dcf13e",
   "metadata": {},
   "outputs": [],
   "source": [
    "from selenium import webdriver\n",
    "from math import log, sin\n",
    "\n",
    "\n",
    "browser = webdriver.Chrome()\n",
    "browser.get(\"http://suninjuly.github.io/alert_accept.html\")\n",
    "button = browser.find_element('xpath', '//button[@type=\"submit\"]').click()\n",
    "browser.switch_to.alert.accept()\n",
    "x = browser.find_element('xpath', '//span[@id=\"input_value\"]').text\n",
    "res = log(abs(12*sin(int(x))))\n",
    "browser.find_element('xpath', '//input[@class=\"form-control\"]').send_keys(res)\n",
    "browser.find_element('xpath', '//button[@type=\"submit\"]').click()\n",
    "print(browser.switch_to.alert.text.split()[-1])"
   ]
  },
  {
   "cell_type": "code",
   "execution_count": null,
   "id": "929e1d94",
   "metadata": {},
   "outputs": [],
   "source": [
    "from selenium import webdriver\n",
    "from math import log, sin\n",
    "\n",
    "\n",
    "browser = webdriver.Chrome()\n",
    "browser.get(\"http://suninjuly.github.io/redirect_accept.html\")\n",
    "button = browser.find_element('xpath', '//button[@type=\"submit\"]').click()\n",
    "new_window = browser.window_handles[1]\n",
    "browser.switch_to.window(new_window)\n",
    "x = browser.find_element('xpath', '//span[@id=\"input_value\"]').text\n",
    "res = log(abs(12*sin(int(x))))\n",
    "browser.find_element('xpath', '//input[@class=\"form-control\"]').send_keys(res)\n",
    "browser.find_element('xpath', '//button[@type=\"submit\"]').click()\n",
    "print(browser.switch_to.alert.text.split()[-1])"
   ]
  },
  {
   "cell_type": "code",
   "execution_count": null,
   "id": "f9bceba0",
   "metadata": {},
   "outputs": [],
   "source": [
    "rom selenium.webdriver.support.ui import WebDriverWait\n",
    "from selenium.webdriver.support import expected_conditions as EC\n",
    "from selenium import webdriver\n",
    "\n",
    "browser = webdriver.Chrome()\n",
    "browser.get(\"http://suninjuly.github.io/explicit_wait2.html\")\n",
    "WebDriverWait(browser, 12).until(EC.text_to_be_present_in_element(('xpath', '//h5[@id=\"price\"]'), '$100'))\n",
    "browser.find_element('xpath', '//button[@id=\"book\"]').click()\n",
    "x = browser.find_element('xpath', '//span[@id=\"input_value\"]').text\n",
    "res = log(abs(12*sin(int(x))))\n",
    "browser.find_element('xpath', '//input[@class=\"form-control\"]').send_keys(res)\n",
    "browser.find_element('xpath', '//button[@type=\"submit\"]').click()\n",
    "print(browser.switch_to.alert.text.split()[-1])"
   ]
  }
 ],
 "metadata": {
  "kernelspec": {
   "display_name": "Python 3 (ipykernel)",
   "language": "python",
   "name": "python3"
  },
  "language_info": {
   "codemirror_mode": {
    "name": "ipython",
    "version": 3
   },
   "file_extension": ".py",
   "mimetype": "text/x-python",
   "name": "python",
   "nbconvert_exporter": "python",
   "pygments_lexer": "ipython3",
   "version": "3.11.5"
  }
 },
 "nbformat": 4,
 "nbformat_minor": 5
}
